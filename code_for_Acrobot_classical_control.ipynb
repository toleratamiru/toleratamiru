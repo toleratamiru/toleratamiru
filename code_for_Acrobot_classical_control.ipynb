{
  "nbformat": 4,
  "nbformat_minor": 0,
  "metadata": {
    "colab": {
      "provenance": [],
      "authorship_tag": "ABX9TyNJaixyVT7j5TP9f4vdxzhw",
      "include_colab_link": true
    },
    "kernelspec": {
      "name": "python3",
      "display_name": "Python 3"
    },
    "language_info": {
      "name": "python"
    }
  },
  "cells": [
    {
      "cell_type": "markdown",
      "metadata": {
        "id": "view-in-github",
        "colab_type": "text"
      },
      "source": [
        "<a href=\"https://colab.research.google.com/github/toleratamiru/toleratamiru/blob/main/code_for_Acrobot_classical_control.ipynb\" target=\"_parent\"><img src=\"https://colab.research.google.com/assets/colab-badge.svg\" alt=\"Open In Colab\"/></a>"
      ]
    },
    {
      "cell_type": "code",
      "execution_count": 7,
      "metadata": {
        "colab": {
          "base_uri": "https://localhost:8080/",
          "height": 54
        },
        "id": "oz6md6q5aLLz",
        "outputId": "ab4b3deb-9576-4831-d032-a00d8405ead2"
      },
      "outputs": [
        {
          "output_type": "stream",
          "name": "stderr",
          "text": [
            "WARNING:imageio_ffmpeg:IMAGEIO FFMPEG_WRITER WARNING: input image is not divisible by macro_block_size=16, resizing from (500, 500) to (512, 512) to ensure video compatibility with most codecs and players. To prevent resizing, make your input image divisible by the macro_block_size or set the macro_block_size to 1 (risking incompatibility).\n"
          ]
        },
        {
          "output_type": "display_data",
          "data": {
            "text/plain": [
              "<IPython.core.display.Javascript object>"
            ],
            "application/javascript": [
              "\n",
              "    async function download(id, filename, size) {\n",
              "      if (!google.colab.kernel.accessAllowed) {\n",
              "        return;\n",
              "      }\n",
              "      const div = document.createElement('div');\n",
              "      const label = document.createElement('label');\n",
              "      label.textContent = `Downloading \"${filename}\": `;\n",
              "      div.appendChild(label);\n",
              "      const progress = document.createElement('progress');\n",
              "      progress.max = size;\n",
              "      div.appendChild(progress);\n",
              "      document.body.appendChild(div);\n",
              "\n",
              "      const buffers = [];\n",
              "      let downloaded = 0;\n",
              "\n",
              "      const channel = await google.colab.kernel.comms.open(id);\n",
              "      // Send a message to notify the kernel that we're ready.\n",
              "      channel.send({})\n",
              "\n",
              "      for await (const message of channel.messages) {\n",
              "        // Send a message to notify the kernel that we're ready.\n",
              "        channel.send({})\n",
              "        if (message.buffers) {\n",
              "          for (const buffer of message.buffers) {\n",
              "            buffers.push(buffer);\n",
              "            downloaded += buffer.byteLength;\n",
              "            progress.value = downloaded;\n",
              "          }\n",
              "        }\n",
              "      }\n",
              "      const blob = new Blob(buffers, {type: 'application/binary'});\n",
              "      const a = document.createElement('a');\n",
              "      a.href = window.URL.createObjectURL(blob);\n",
              "      a.download = filename;\n",
              "      div.appendChild(a);\n",
              "      a.click();\n",
              "      div.remove();\n",
              "    }\n",
              "  "
            ]
          },
          "metadata": {}
        },
        {
          "output_type": "display_data",
          "data": {
            "text/plain": [
              "<IPython.core.display.Javascript object>"
            ],
            "application/javascript": [
              "download(\"download_01c3eb3f-21bc-4824-9858-f98c770ba0dc\", \"RL assignment acrobot_animation.mp4\", 292411)"
            ]
          },
          "metadata": {}
        }
      ],
      "source": [
        "import gym\n",
        "import numpy as np\n",
        "import imageio\n",
        "\n",
        "# Create the Acrobot environment\n",
        "env = gym.make('Acrobot-v1')\n",
        "\n",
        "# Reset the environment to get the initial state\n",
        "state = env.reset()\n",
        "\n",
        "# Set up video recording\n",
        "video_frames = []\n",
        "\n",
        "done = False\n",
        "while not done:\n",
        "    # Render the environment\n",
        "    frame = env.render(mode='rgb_array')\n",
        "    video_frames.append(frame)\n",
        "\n",
        "    # Choose a random action\n",
        "    action = env.action_space.sample()\n",
        "\n",
        "    # Perform the action and get the next state, reward, and done flag\n",
        "    next_state, reward, done, _ = env.step(action)\n",
        "\n",
        "    # Update the current state\n",
        "    state = next_state\n",
        "\n",
        "# Close the environment\n",
        "env.close()\n",
        "\n",
        "# Save the frames as a video file\n",
        "video_file = 'RL assignment acrobot_animation.mp4'\n",
        "imageio.mimsave(video_file, [np.array(frame) for frame in video_frames], fps=30)\n",
        "\n",
        "# Download the video file\n",
        "from google.colab import files\n",
        "files.download(video_file)\n"
      ]
    }
  ]
}